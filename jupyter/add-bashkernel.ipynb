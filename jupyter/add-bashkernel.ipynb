{
 "cells": [
  {
   "cell_type": "markdown",
   "id": "a43ff031-2612-451f-b896-91ca38b73bb4",
   "metadata": {},
   "source": [
    "# https://github.com/jupyter/jupyter/wiki/Jupyter-kernels\n",
    "# https://github.com/takluyver/bash_kernel"
   ]
  },
  {
   "cell_type": "code",
   "execution_count": 1,
   "id": "09b91983-2fc6-4d08-ada1-2009ef19025a",
   "metadata": {},
   "outputs": [
    {
     "name": "stdout",
     "output_type": "stream",
     "text": [
      "Defaulting to user installation because normal site-packages is not writeable\n",
      "Collecting bash_kernel\n",
      "  Downloading bash_kernel-0.8.0-py2.py3-none-any.whl (7.3 kB)\n",
      "Requirement already satisfied: ipykernel in ./.local/lib/python3.10/site-packages (from bash_kernel) (6.17.0)\n",
      "Requirement already satisfied: pexpect>=4.0 in /usr/lib/python3/dist-packages (from bash_kernel) (4.8.0)\n",
      "Requirement already satisfied: matplotlib-inline>=0.1 in ./.local/lib/python3.10/site-packages (from ipykernel->bash_kernel) (0.1.6)\n",
      "Requirement already satisfied: psutil in ./.local/lib/python3.10/site-packages (from ipykernel->bash_kernel) (5.9.3)\n",
      "Requirement already satisfied: packaging in ./.local/lib/python3.10/site-packages (from ipykernel->bash_kernel) (21.3)\n",
      "Requirement already satisfied: ipython>=7.23.1 in ./.local/lib/python3.10/site-packages (from ipykernel->bash_kernel) (8.6.0)\n",
      "Requirement already satisfied: jupyter-client>=6.1.12 in ./.local/lib/python3.10/site-packages (from ipykernel->bash_kernel) (7.4.4)\n",
      "Requirement already satisfied: traitlets>=5.1.0 in ./.local/lib/python3.10/site-packages (from ipykernel->bash_kernel) (5.5.0)\n",
      "Requirement already satisfied: debugpy>=1.0 in ./.local/lib/python3.10/site-packages (from ipykernel->bash_kernel) (1.6.3)\n",
      "Requirement already satisfied: tornado>=6.1 in ./.local/lib/python3.10/site-packages (from ipykernel->bash_kernel) (6.2)\n",
      "Requirement already satisfied: pyzmq>=17 in ./.local/lib/python3.10/site-packages (from ipykernel->bash_kernel) (24.0.1)\n",
      "Requirement already satisfied: nest-asyncio in ./.local/lib/python3.10/site-packages (from ipykernel->bash_kernel) (1.5.6)\n",
      "Requirement already satisfied: stack-data in ./.local/lib/python3.10/site-packages (from ipython>=7.23.1->ipykernel->bash_kernel) (0.6.0)\n",
      "Requirement already satisfied: jedi>=0.16 in ./.local/lib/python3.10/site-packages (from ipython>=7.23.1->ipykernel->bash_kernel) (0.18.1)\n",
      "Requirement already satisfied: decorator in ./.local/lib/python3.10/site-packages (from ipython>=7.23.1->ipykernel->bash_kernel) (5.1.1)\n",
      "Requirement already satisfied: prompt-toolkit<3.1.0,>3.0.1 in ./.local/lib/python3.10/site-packages (from ipython>=7.23.1->ipykernel->bash_kernel) (3.0.31)\n",
      "Requirement already satisfied: backcall in ./.local/lib/python3.10/site-packages (from ipython>=7.23.1->ipykernel->bash_kernel) (0.2.0)\n",
      "Requirement already satisfied: pickleshare in ./.local/lib/python3.10/site-packages (from ipython>=7.23.1->ipykernel->bash_kernel) (0.7.5)\n",
      "Requirement already satisfied: pygments>=2.4.0 in ./.local/lib/python3.10/site-packages (from ipython>=7.23.1->ipykernel->bash_kernel) (2.13.0)\n",
      "Requirement already satisfied: entrypoints in ./.local/lib/python3.10/site-packages (from jupyter-client>=6.1.12->ipykernel->bash_kernel) (0.4)\n",
      "Requirement already satisfied: jupyter-core>=4.9.2 in ./.local/lib/python3.10/site-packages (from jupyter-client>=6.1.12->ipykernel->bash_kernel) (4.11.2)\n",
      "Requirement already satisfied: python-dateutil>=2.8.2 in ./.local/lib/python3.10/site-packages (from jupyter-client>=6.1.12->ipykernel->bash_kernel) (2.8.2)\n",
      "Requirement already satisfied: pyparsing!=3.0.5,>=2.0.2 in /usr/lib/python3/dist-packages (from packaging->ipykernel->bash_kernel) (2.4.7)\n",
      "Requirement already satisfied: parso<0.9.0,>=0.8.0 in ./.local/lib/python3.10/site-packages (from jedi>=0.16->ipython>=7.23.1->ipykernel->bash_kernel) (0.8.3)\n",
      "Requirement already satisfied: wcwidth in ./.local/lib/python3.10/site-packages (from prompt-toolkit<3.1.0,>3.0.1->ipython>=7.23.1->ipykernel->bash_kernel) (0.2.5)\n",
      "Requirement already satisfied: six>=1.5 in /usr/lib/python3/dist-packages (from python-dateutil>=2.8.2->jupyter-client>=6.1.12->ipykernel->bash_kernel) (1.16.0)\n",
      "Requirement already satisfied: asttokens>=2.1.0 in ./.local/lib/python3.10/site-packages (from stack-data->ipython>=7.23.1->ipykernel->bash_kernel) (2.1.0)\n",
      "Requirement already satisfied: pure-eval in ./.local/lib/python3.10/site-packages (from stack-data->ipython>=7.23.1->ipykernel->bash_kernel) (0.2.2)\n",
      "Requirement already satisfied: executing>=1.2.0 in ./.local/lib/python3.10/site-packages (from stack-data->ipython>=7.23.1->ipykernel->bash_kernel) (1.2.0)\n",
      "Installing collected packages: bash_kernel\n",
      "Successfully installed bash_kernel-0.8.0\n",
      "Note: you may need to restart the kernel to use updated packages.\n"
     ]
    }
   ],
   "source": [
    "pip install bash_kernel"
   ]
  },
  {
   "cell_type": "code",
   "execution_count": 3,
   "id": "c0f50d12-e6a1-4ef8-b179-c5f74bf03587",
   "metadata": {},
   "outputs": [
    {
     "name": "stdout",
     "output_type": "stream",
     "text": [
      "Installing IPython kernel spec\n"
     ]
    }
   ],
   "source": [
    "!python3 -m bash_kernel.install"
   ]
  },
  {
   "attachments": {
    "4f07de19-8068-46da-bbfe-da843af012e1.png": {
     "image/png": "[encoded data removed]"
    }
   },
   "cell_type": "markdown",
   "id": "a316e01a-35ed-481c-a8d6-9c09dafc39a9",
   "metadata": {},
   "source": [
    "![image.png](attachment:4f07de19-8068-46da-bbfe-da843af012e1.png)"
   ]
  }
 ],
 "metadata": {
  "kernelspec": {
   "display_name": "Python 3 (ipykernel)",
   "language": "python",
   "name": "python3"
  },
  "language_info": {
   "codemirror_mode": {
    "name": "ipython",
    "version": 3
   },
   "file_extension": ".py",
   "mimetype": "text/x-python",
   "name": "python",
   "nbconvert_exporter": "python",
   "pygments_lexer": "ipython3",
   "version": "3.10.6"
  }
 },
 "nbformat": 4,
 "nbformat_minor": 5
}
