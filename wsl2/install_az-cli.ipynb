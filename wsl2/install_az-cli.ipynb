{
 "cells": [
  {
   "cell_type": "markdown",
   "metadata": {},
   "source": [
    "# install AZ cli\n",
    "https://learn.microsoft.com/ja-jp/cli/azure/install-azure-cli-linux?pivots=apt"
   ]
  },
  {
   "cell_type": "code",
   "execution_count": 1,
   "metadata": {},
   "outputs": [
    {
     "name": "stdout",
     "output_type": "stream",
     "text": [
      "Get:1 https://packages.microsoft.com/ubuntu/20.04/prod focal InRelease [10.5 kB]\n",
      "Hit:2 http://archive.ubuntu.com/ubuntu focal InRelease                         \n",
      "Get:3 http://security.ubuntu.com/ubuntu focal-security InRelease [114 kB]      \n",
      "Get:4 http://archive.ubuntu.com/ubuntu focal-updates InRelease [114 kB]\n",
      "Get:5 https://packages.microsoft.com/ubuntu/20.04/prod focal/main arm64 Packages [45.3 kB]\n",
      "Get:6 https://packages.microsoft.com/ubuntu/20.04/prod focal/main amd64 Packages [205 kB]\n",
      "Get:7 http://archive.ubuntu.com/ubuntu focal-backports InRelease [108 kB]      \n",
      "Get:8 http://archive.ubuntu.com/ubuntu focal-updates/main amd64 Packages [2196 kB]\n",
      "Get:9 http://security.ubuntu.com/ubuntu focal-security/main amd64 Packages [1821 kB]\n",
      "Get:10 http://archive.ubuntu.com/ubuntu focal-updates/main amd64 c-n-f Metadata [16.0 kB]\n",
      "Get:11 http://security.ubuntu.com/ubuntu focal-security/main amd64 c-n-f Metadata [11.2 kB]\n",
      "Fetched 4641 kB in 5s (921 kB/s)                                  \n",
      "Reading package lists... Done\n",
      "Reading package lists... Done\n",
      "Building dependency tree       \n",
      "Reading state information... Done\n",
      "lsb-release is already the newest version (11.1.0ubuntu2).\n",
      "lsb-release set to manually installed.\n",
      "apt-transport-https is already the newest version (2.0.9).\n",
      "The following additional packages will be installed:\n",
      "  dirmngr gnupg-l10n gnupg-utils gpg gpg-agent gpg-wks-client gpg-wks-server\n",
      "  gpgconf gpgsm gpgv libcurl4\n",
      "Suggested packages:\n",
      "  pinentry-gnome3 tor parcimonie xloadimage scdaemon\n",
      "The following packages will be upgraded:\n",
      "  curl dirmngr gnupg gnupg-l10n gnupg-utils gpg gpg-agent gpg-wks-client\n",
      "  gpg-wks-server gpgconf gpgsm gpgv libcurl4\n",
      "13 upgraded, 0 newly installed, 0 to remove and 299 not upgraded.\n",
      "Need to get 2959 kB of archives.\n",
      "After this operation, 8192 B of additional disk space will be used.\n",
      "Get:1 http://archive.ubuntu.com/ubuntu focal-updates/main amd64 gpg-wks-client amd64 2.2.19-3ubuntu2.2 [97.4 kB]\n",
      "Get:2 http://archive.ubuntu.com/ubuntu focal-updates/main amd64 dirmngr amd64 2.2.19-3ubuntu2.2 [330 kB]\n",
      "Get:3 http://archive.ubuntu.com/ubuntu focal-updates/main amd64 gnupg-utils amd64 2.2.19-3ubuntu2.2 [481 kB]\n",
      "Get:4 http://archive.ubuntu.com/ubuntu focal-updates/main amd64 gpg-wks-server amd64 2.2.19-3ubuntu2.2 [90.2 kB]\n",
      "Get:5 http://archive.ubuntu.com/ubuntu focal-updates/main amd64 gpg-agent amd64 2.2.19-3ubuntu2.2 [232 kB]\n",
      "Get:6 http://archive.ubuntu.com/ubuntu focal-updates/main amd64 gpg amd64 2.2.19-3ubuntu2.2 [482 kB]\n",
      "Get:7 http://archive.ubuntu.com/ubuntu focal-updates/main amd64 gpgconf amd64 2.2.19-3ubuntu2.2 [124 kB]\n",
      "Get:8 http://archive.ubuntu.com/ubuntu focal-updates/main amd64 gnupg-l10n all 2.2.19-3ubuntu2.2 [51.7 kB]\n",
      "Get:9 http://archive.ubuntu.com/ubuntu focal-updates/main amd64 gnupg all 2.2.19-3ubuntu2.2 [259 kB]\n",
      "Get:10 http://archive.ubuntu.com/ubuntu focal-updates/main amd64 gpgsm amd64 2.2.19-3ubuntu2.2 [217 kB]\n",
      "Get:11 http://archive.ubuntu.com/ubuntu focal-updates/main amd64 gpgv amd64 2.2.19-3ubuntu2.2 [200 kB]\n",
      "Get:12 http://archive.ubuntu.com/ubuntu focal-updates/main amd64 curl amd64 7.68.0-1ubuntu2.14 [161 kB]\n",
      "Get:13 http://archive.ubuntu.com/ubuntu focal-updates/main amd64 libcurl4 amd64 7.68.0-1ubuntu2.14 [235 kB]\n",
      "Fetched 2959 kB in 3s (1170 kB/s) \n",
      "(Reading database ... 36538 files and directories currently installed.)\n",
      "Preparing to unpack .../00-gpg-wks-client_2.2.19-3ubuntu2.2_amd64.deb ...\n",
      "Unpacking gpg-wks-client (2.2.19-3ubuntu2.2) over (2.2.19-3ubuntu2) ...\n",
      "Preparing to unpack .../01-dirmngr_2.2.19-3ubuntu2.2_amd64.deb ...\n",
      "Unpacking dirmngr (2.2.19-3ubuntu2.2) over (2.2.19-3ubuntu2) ...\n",
      "Preparing to unpack .../02-gnupg-utils_2.2.19-3ubuntu2.2_amd64.deb ...\n",
      "Unpacking gnupg-utils (2.2.19-3ubuntu2.2) over (2.2.19-3ubuntu2) ...\n",
      "Preparing to unpack .../03-gpg-wks-server_2.2.19-3ubuntu2.2_amd64.deb ...\n",
      "Unpacking gpg-wks-server (2.2.19-3ubuntu2.2) over (2.2.19-3ubuntu2) ...\n",
      "Preparing to unpack .../04-gpg-agent_2.2.19-3ubuntu2.2_amd64.deb ...\n",
      "Unpacking gpg-agent (2.2.19-3ubuntu2.2) over (2.2.19-3ubuntu2) ...\n",
      "Preparing to unpack .../05-gpg_2.2.19-3ubuntu2.2_amd64.deb ...\n",
      "Unpacking gpg (2.2.19-3ubuntu2.2) over (2.2.19-3ubuntu2) ...\n",
      "Preparing to unpack .../06-gpgconf_2.2.19-3ubuntu2.2_amd64.deb ...\n",
      "Unpacking gpgconf (2.2.19-3ubuntu2.2) over (2.2.19-3ubuntu2) ...\n",
      "Preparing to unpack .../07-gnupg-l10n_2.2.19-3ubuntu2.2_all.deb ...\n",
      "Unpacking gnupg-l10n (2.2.19-3ubuntu2.2) over (2.2.19-3ubuntu2) ...\n",
      "Preparing to unpack .../08-gnupg_2.2.19-3ubuntu2.2_all.deb ...\n",
      "Unpacking gnupg (2.2.19-3ubuntu2.2) over (2.2.19-3ubuntu2) ...\n",
      "Preparing to unpack .../09-gpgsm_2.2.19-3ubuntu2.2_amd64.deb ...\n",
      "Unpacking gpgsm (2.2.19-3ubuntu2.2) over (2.2.19-3ubuntu2) ...\n",
      "Preparing to unpack .../10-gpgv_2.2.19-3ubuntu2.2_amd64.deb ...\n",
      "Unpacking gpgv (2.2.19-3ubuntu2.2) over (2.2.19-3ubuntu2) ...\n",
      "Setting up gpgv (2.2.19-3ubuntu2.2) ...\n",
      "(Reading database ... 36538 files and directories currently installed.)\n",
      "Preparing to unpack .../curl_7.68.0-1ubuntu2.14_amd64.deb ...\n",
      "Unpacking curl (7.68.0-1ubuntu2.14) over (7.68.0-1ubuntu2.1) ...\n",
      "Preparing to unpack .../libcurl4_7.68.0-1ubuntu2.14_amd64.deb ...\n",
      "Unpacking libcurl4:amd64 (7.68.0-1ubuntu2.14) over (7.68.0-1ubuntu2.1) ...\n",
      "Setting up gnupg-l10n (2.2.19-3ubuntu2.2) ...\n",
      "Setting up gpgconf (2.2.19-3ubuntu2.2) ...\n",
      "Setting up libcurl4:amd64 (7.68.0-1ubuntu2.14) ...\n",
      "Setting up curl (7.68.0-1ubuntu2.14) ...\n",
      "Setting up gpg (2.2.19-3ubuntu2.2) ...\n",
      "Setting up gnupg-utils (2.2.19-3ubuntu2.2) ...\n",
      "Setting up gpg-agent (2.2.19-3ubuntu2.2) ...\n",
      "Setting up gpgsm (2.2.19-3ubuntu2.2) ...\n",
      "Setting up dirmngr (2.2.19-3ubuntu2.2) ...\n",
      "Setting up gpg-wks-server (2.2.19-3ubuntu2.2) ...\n",
      "Setting up gpg-wks-client (2.2.19-3ubuntu2.2) ...\n",
      "Setting up gnupg (2.2.19-3ubuntu2.2) ...\n",
      "Processing triggers for libc-bin (2.31-0ubuntu9) ...\n",
      "Processing triggers for man-db (2.9.1-1) ...\n",
      "Processing triggers for install-info (6.7.0.dfsg.2-5) ...\n",
      "Get:1 https://packages.microsoft.com/repos/azure-cli focal InRelease [10.4 kB]\n",
      "Hit:2 https://packages.microsoft.com/ubuntu/20.04/prod focal InRelease         \n",
      "Hit:3 http://security.ubuntu.com/ubuntu focal-security InRelease               \n",
      "Hit:4 http://archive.ubuntu.com/ubuntu focal InRelease                      \n",
      "Hit:5 http://archive.ubuntu.com/ubuntu focal-updates InRelease\n",
      "Get:6 https://packages.microsoft.com/repos/azure-cli focal/main amd64 Packages [9765 B]\n",
      "Hit:7 http://archive.ubuntu.com/ubuntu focal-backports InRelease\n",
      "Fetched 20.2 kB in 4s (4773 B/s)\n",
      "Reading package lists... Done\n",
      "Reading package lists... Done\n",
      "Building dependency tree       \n",
      "Reading state information... Done\n",
      "The following NEW packages will be installed:\n",
      "  azure-cli\n",
      "0 upgraded, 1 newly installed, 0 to remove and 299 not upgraded.\n",
      "Need to get 82.7 MB of archives.\n",
      "After this operation, 1211 MB of additional disk space will be used.\n",
      "Get:1 https://packages.microsoft.com/repos/azure-cli focal/main amd64 azure-cli all 2.42.0-1~focal [82.7 MB]\n",
      "Fetched 82.7 MB in 15s (5593 kB/s)                                             \n",
      "Selecting previously unselected package azure-cli.\n",
      "(Reading database ... 36538 files and directories currently installed.)\n",
      "Preparing to unpack .../azure-cli_2.42.0-1~focal_all.deb ...\n",
      "Unpacking azure-cli (2.42.0-1~focal) ...\n",
      "Setting up azure-cli (2.42.0-1~focal) ...\n"
     ]
    }
   ],
   "source": [
    "# option 1\n",
    "curl -sL https://aka.ms/InstallAzureCLIDeb | bash"
   ]
  },
  {
   "cell_type": "code",
   "execution_count": null,
   "metadata": {},
   "outputs": [],
   "source": [
    "# option 2\n",
    "curl -sL https://packages.microsoft.com/keys/microsoft.asc |\n",
    "    gpg --dearmor |\n",
    "    sudo tee /etc/apt/trusted.gpg.d/microsoft.gpg > /dev/null\n",
    "echo \"---\"\n",
    "AZ_REPO=$(lsb_release -cs)\n",
    "echo \"deb [arch=amd64] https://packages.microsoft.com/repos/azure-cli/ $AZ_REPO main\" |\n",
    "    sudo tee /etc/apt/sources.list.d/azure-cli.list\n",
    "echo \"---\"\n",
    "sudo apt-get update\n",
    "sudo apt-get install azure-cli"
   ]
  },
  {
   "cell_type": "code",
   "execution_count": 2,
   "metadata": {},
   "outputs": [
    {
     "name": "stdout",
     "output_type": "stream",
     "text": [
      "{\n",
      "  \"azure-cli\": \"2.42.0\",\n",
      "  \"azure-cli-core\": \"2.42.0\",\n",
      "  \"azure-cli-telemetry\": \"1.0.8\",\n",
      "  \"extensions\": {}\n",
      "}\n"
     ]
    }
   ],
   "source": [
    "az version"
   ]
  }
 ],
 "metadata": {
  "kernelspec": {
   "display_name": "Bash",
   "language": "bash",
   "name": "bash"
  },
  "language_info": {
   "codemirror_mode": "shell",
   "file_extension": ".sh",
   "mimetype": "text/x-sh",
   "name": "bash"
  }
 },
 "nbformat": 4,
 "nbformat_minor": 4
}
